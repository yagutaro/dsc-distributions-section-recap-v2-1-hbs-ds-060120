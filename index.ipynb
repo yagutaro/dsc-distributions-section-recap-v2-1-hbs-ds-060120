{
 "cells": [
  {
   "cell_type": "markdown",
   "metadata": {},
   "source": [
    "# Statistical Distributions - Recap"
   ]
  },
  {
   "cell_type": "markdown",
   "metadata": {},
   "source": [
    "## Introduction\n",
    "\n",
    "This short lesson summarizes the topics we covered in this section and why they'll be important to you as a data scientist."
   ]
  },
  {
   "cell_type": "markdown",
   "metadata": {},
   "source": [
    "## Key Takeaways\n",
    "\n",
    "In this section, we really dug into statistical distributions. \n",
    "\n",
    "Key takeaways include:\n",
    "\n",
    "* There are two types of distributions - continuous, where (subject to measurement and/or storage precision) there are effectively an infinite number of possible values, and discrete, where there are a distinct, non-infinite number of options. For example, a person's height is continuous - assuming a suitably precise tape measure - whereas the number of bedrooms in a house is discrete\n",
    "* How to describe the distribution of data sets using Probability Mass Functions, Cumulative Distribution Functions, and Probability Density Functions\n",
    "* One type of discrete distribution deals with a series of boolean events or trials - often called Bernoulli Trials\n",
    "* A Normal distribution is the classic \"bell curve\" with 68% of the probability mass within 1 SD of the mean, 95% within 2 SDs and 99.7% within 3 SDs\n",
    "* Differences between the normal and the standard normal distribution\n",
    "* The uses of $z$-scores and p-values for describing a distribution\n",
    "* How a one sample $z$-test is a very simple form of hypothesis testing.\n",
    "* How skewness and kurtosis can be used to measure how different a given distribution is from a normal distribution\n",
    "\n",
    "\n",
    "In the Appendix to this Module, you'll have the opportunity to learn about: \n",
    "* the uniform distribution, which represents processes where each outcome is equally likely, like rolling a dice\n",
    "* the Poisson distribution, which can be used to display the likelihood of a given number of successes over a given time period\n",
    "* the exponential distribution, which can be used to describe the probability distribution of the amount of time it may take before a given event occurs"
   ]
  }
 ],
 "metadata": {
  "kernelspec": {
   "display_name": "Python 3",
   "language": "python",
   "name": "python3"
  },
  "language_info": {
   "codemirror_mode": {
    "name": "ipython",
    "version": 3
   },
   "file_extension": ".py",
   "mimetype": "text/x-python",
   "name": "python",
   "nbconvert_exporter": "python",
   "pygments_lexer": "ipython3",
   "version": "3.6.9"
  },
  "toc": {
   "base_numbering": 1,
   "nav_menu": {},
   "number_sections": true,
   "sideBar": true,
   "skip_h1_title": false,
   "title_cell": "Table of Contents",
   "title_sidebar": "Contents",
   "toc_cell": false,
   "toc_position": {},
   "toc_section_display": true,
   "toc_window_display": false
  }
 },
 "nbformat": 4,
 "nbformat_minor": 2
}
